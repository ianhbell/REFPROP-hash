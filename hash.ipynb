{
 "cells": [
  {
   "cell_type": "code",
   "execution_count": 2,
   "metadata": {},
   "outputs": [
    {
     "name": "stdout",
     "output_type": "stream",
     "text": [
      "70c6aac0\n"
     ]
    }
   ],
   "source": [
    "import hashlib\n",
    "StdInChIkey = 'ATUOYWHBWRKTHZ-UHFFFAOYSA-N' # Change the contents of this string between the single quotes to your InChI key\n",
    "uid = hashlib.sha256(StdInChIkey.encode('UTF-8')).hexdigest()[2:9] + '0'\n",
    "print(uid)"
   ]
  }
 ],
 "metadata": {
  "kernelspec": {
   "display_name": "Python 3",
   "language": "python",
   "name": "python3"
  },
  "language_info": {
   "codemirror_mode": {
    "name": "ipython",
    "version": 3
   },
   "file_extension": ".py",
   "mimetype": "text/x-python",
   "name": "python",
   "nbconvert_exporter": "python",
   "pygments_lexer": "ipython3",
   "version": "3.7.6"
  }
 },
 "nbformat": 4,
 "nbformat_minor": 4
}
